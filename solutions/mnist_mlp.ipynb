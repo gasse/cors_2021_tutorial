{
  "nbformat": 4,
  "nbformat_minor": 0,
  "metadata": {
    "colab": {
      "name": "mnist_mlp.ipynb",
      "provenance": [],
      "collapsed_sections": [],
      "include_colab_link": true
    },
    "kernelspec": {
      "display_name": "Python 3",
      "language": "python",
      "name": "python3"
    },
    "language_info": {
      "codemirror_mode": {
        "name": "ipython",
        "version": 3
      },
      "file_extension": ".py",
      "mimetype": "text/x-python",
      "name": "python",
      "nbconvert_exporter": "python",
      "pygments_lexer": "ipython3",
      "version": "3.9.5"
    },
    "accelerator": "GPU",
    "widgets": {
      "application/vnd.jupyter.widget-state+json": {
        "75d4428838b947c395b116207ac3f71f": {
          "model_module": "@jupyter-widgets/controls",
          "model_name": "HBoxModel",
          "state": {
            "_view_name": "HBoxView",
            "_dom_classes": [],
            "_model_name": "HBoxModel",
            "_view_module": "@jupyter-widgets/controls",
            "_model_module_version": "1.5.0",
            "_view_count": null,
            "_view_module_version": "1.5.0",
            "box_style": "",
            "layout": "IPY_MODEL_71ec435561b548bc89bef223ef7215d8",
            "_model_module": "@jupyter-widgets/controls",
            "children": [
              "IPY_MODEL_3be4d651e4ea4892b4d8085d3723a7c1",
              "IPY_MODEL_cf19243f97714153bb5473935083d0f1"
            ]
          }
        },
        "71ec435561b548bc89bef223ef7215d8": {
          "model_module": "@jupyter-widgets/base",
          "model_name": "LayoutModel",
          "state": {
            "_view_name": "LayoutView",
            "grid_template_rows": null,
            "right": null,
            "justify_content": null,
            "_view_module": "@jupyter-widgets/base",
            "overflow": null,
            "_model_module_version": "1.2.0",
            "_view_count": null,
            "flex_flow": null,
            "width": null,
            "min_width": null,
            "border": null,
            "align_items": null,
            "bottom": null,
            "_model_module": "@jupyter-widgets/base",
            "top": null,
            "grid_column": null,
            "overflow_y": null,
            "overflow_x": null,
            "grid_auto_flow": null,
            "grid_area": null,
            "grid_template_columns": null,
            "flex": null,
            "_model_name": "LayoutModel",
            "justify_items": null,
            "grid_row": null,
            "max_height": null,
            "align_content": null,
            "visibility": null,
            "align_self": null,
            "height": null,
            "min_height": null,
            "padding": null,
            "grid_auto_rows": null,
            "grid_gap": null,
            "max_width": null,
            "order": null,
            "_view_module_version": "1.2.0",
            "grid_template_areas": null,
            "object_position": null,
            "object_fit": null,
            "grid_auto_columns": null,
            "margin": null,
            "display": null,
            "left": null
          }
        },
        "3be4d651e4ea4892b4d8085d3723a7c1": {
          "model_module": "@jupyter-widgets/controls",
          "model_name": "FloatProgressModel",
          "state": {
            "_view_name": "ProgressView",
            "style": "IPY_MODEL_c20af29132054b8489cff03ffb2bf013",
            "_dom_classes": [],
            "description": "",
            "_model_name": "FloatProgressModel",
            "bar_style": "success",
            "max": 9912422,
            "_view_module": "@jupyter-widgets/controls",
            "_model_module_version": "1.5.0",
            "value": 9912422,
            "_view_count": null,
            "_view_module_version": "1.5.0",
            "orientation": "horizontal",
            "min": 0,
            "description_tooltip": null,
            "_model_module": "@jupyter-widgets/controls",
            "layout": "IPY_MODEL_b5c2397050714ab7836733fe739ddb3c"
          }
        },
        "cf19243f97714153bb5473935083d0f1": {
          "model_module": "@jupyter-widgets/controls",
          "model_name": "HTMLModel",
          "state": {
            "_view_name": "HTMLView",
            "style": "IPY_MODEL_c45496bf138b4e9d8b801fc0dbb92ba0",
            "_dom_classes": [],
            "description": "",
            "_model_name": "HTMLModel",
            "placeholder": "​",
            "_view_module": "@jupyter-widgets/controls",
            "_model_module_version": "1.5.0",
            "value": " 9913344/? [00:02&lt;00:00, 3701180.04it/s]",
            "_view_count": null,
            "_view_module_version": "1.5.0",
            "description_tooltip": null,
            "_model_module": "@jupyter-widgets/controls",
            "layout": "IPY_MODEL_29ed0c56a9984ca8ae8fa5870891803b"
          }
        },
        "c20af29132054b8489cff03ffb2bf013": {
          "model_module": "@jupyter-widgets/controls",
          "model_name": "ProgressStyleModel",
          "state": {
            "_view_name": "StyleView",
            "_model_name": "ProgressStyleModel",
            "description_width": "initial",
            "_view_module": "@jupyter-widgets/base",
            "_model_module_version": "1.5.0",
            "_view_count": null,
            "_view_module_version": "1.2.0",
            "bar_color": null,
            "_model_module": "@jupyter-widgets/controls"
          }
        },
        "b5c2397050714ab7836733fe739ddb3c": {
          "model_module": "@jupyter-widgets/base",
          "model_name": "LayoutModel",
          "state": {
            "_view_name": "LayoutView",
            "grid_template_rows": null,
            "right": null,
            "justify_content": null,
            "_view_module": "@jupyter-widgets/base",
            "overflow": null,
            "_model_module_version": "1.2.0",
            "_view_count": null,
            "flex_flow": null,
            "width": null,
            "min_width": null,
            "border": null,
            "align_items": null,
            "bottom": null,
            "_model_module": "@jupyter-widgets/base",
            "top": null,
            "grid_column": null,
            "overflow_y": null,
            "overflow_x": null,
            "grid_auto_flow": null,
            "grid_area": null,
            "grid_template_columns": null,
            "flex": null,
            "_model_name": "LayoutModel",
            "justify_items": null,
            "grid_row": null,
            "max_height": null,
            "align_content": null,
            "visibility": null,
            "align_self": null,
            "height": null,
            "min_height": null,
            "padding": null,
            "grid_auto_rows": null,
            "grid_gap": null,
            "max_width": null,
            "order": null,
            "_view_module_version": "1.2.0",
            "grid_template_areas": null,
            "object_position": null,
            "object_fit": null,
            "grid_auto_columns": null,
            "margin": null,
            "display": null,
            "left": null
          }
        },
        "c45496bf138b4e9d8b801fc0dbb92ba0": {
          "model_module": "@jupyter-widgets/controls",
          "model_name": "DescriptionStyleModel",
          "state": {
            "_view_name": "StyleView",
            "_model_name": "DescriptionStyleModel",
            "description_width": "",
            "_view_module": "@jupyter-widgets/base",
            "_model_module_version": "1.5.0",
            "_view_count": null,
            "_view_module_version": "1.2.0",
            "_model_module": "@jupyter-widgets/controls"
          }
        },
        "29ed0c56a9984ca8ae8fa5870891803b": {
          "model_module": "@jupyter-widgets/base",
          "model_name": "LayoutModel",
          "state": {
            "_view_name": "LayoutView",
            "grid_template_rows": null,
            "right": null,
            "justify_content": null,
            "_view_module": "@jupyter-widgets/base",
            "overflow": null,
            "_model_module_version": "1.2.0",
            "_view_count": null,
            "flex_flow": null,
            "width": null,
            "min_width": null,
            "border": null,
            "align_items": null,
            "bottom": null,
            "_model_module": "@jupyter-widgets/base",
            "top": null,
            "grid_column": null,
            "overflow_y": null,
            "overflow_x": null,
            "grid_auto_flow": null,
            "grid_area": null,
            "grid_template_columns": null,
            "flex": null,
            "_model_name": "LayoutModel",
            "justify_items": null,
            "grid_row": null,
            "max_height": null,
            "align_content": null,
            "visibility": null,
            "align_self": null,
            "height": null,
            "min_height": null,
            "padding": null,
            "grid_auto_rows": null,
            "grid_gap": null,
            "max_width": null,
            "order": null,
            "_view_module_version": "1.2.0",
            "grid_template_areas": null,
            "object_position": null,
            "object_fit": null,
            "grid_auto_columns": null,
            "margin": null,
            "display": null,
            "left": null
          }
        },
        "f7c7759b22b544dc9f7285f6279a141a": {
          "model_module": "@jupyter-widgets/controls",
          "model_name": "HBoxModel",
          "state": {
            "_view_name": "HBoxView",
            "_dom_classes": [],
            "_model_name": "HBoxModel",
            "_view_module": "@jupyter-widgets/controls",
            "_model_module_version": "1.5.0",
            "_view_count": null,
            "_view_module_version": "1.5.0",
            "box_style": "",
            "layout": "IPY_MODEL_14e9117e7dd84e2282a703255a3c53c7",
            "_model_module": "@jupyter-widgets/controls",
            "children": [
              "IPY_MODEL_e60ab3c24893418ea1665456d9e57e48",
              "IPY_MODEL_e3df36f73f944680a86da2ef21f7bc6b"
            ]
          }
        },
        "14e9117e7dd84e2282a703255a3c53c7": {
          "model_module": "@jupyter-widgets/base",
          "model_name": "LayoutModel",
          "state": {
            "_view_name": "LayoutView",
            "grid_template_rows": null,
            "right": null,
            "justify_content": null,
            "_view_module": "@jupyter-widgets/base",
            "overflow": null,
            "_model_module_version": "1.2.0",
            "_view_count": null,
            "flex_flow": null,
            "width": null,
            "min_width": null,
            "border": null,
            "align_items": null,
            "bottom": null,
            "_model_module": "@jupyter-widgets/base",
            "top": null,
            "grid_column": null,
            "overflow_y": null,
            "overflow_x": null,
            "grid_auto_flow": null,
            "grid_area": null,
            "grid_template_columns": null,
            "flex": null,
            "_model_name": "LayoutModel",
            "justify_items": null,
            "grid_row": null,
            "max_height": null,
            "align_content": null,
            "visibility": null,
            "align_self": null,
            "height": null,
            "min_height": null,
            "padding": null,
            "grid_auto_rows": null,
            "grid_gap": null,
            "max_width": null,
            "order": null,
            "_view_module_version": "1.2.0",
            "grid_template_areas": null,
            "object_position": null,
            "object_fit": null,
            "grid_auto_columns": null,
            "margin": null,
            "display": null,
            "left": null
          }
        },
        "e60ab3c24893418ea1665456d9e57e48": {
          "model_module": "@jupyter-widgets/controls",
          "model_name": "FloatProgressModel",
          "state": {
            "_view_name": "ProgressView",
            "style": "IPY_MODEL_7af20c5e31084958b7a97f70268dee47",
            "_dom_classes": [],
            "description": "",
            "_model_name": "FloatProgressModel",
            "bar_style": "success",
            "max": 28881,
            "_view_module": "@jupyter-widgets/controls",
            "_model_module_version": "1.5.0",
            "value": 28881,
            "_view_count": null,
            "_view_module_version": "1.5.0",
            "orientation": "horizontal",
            "min": 0,
            "description_tooltip": null,
            "_model_module": "@jupyter-widgets/controls",
            "layout": "IPY_MODEL_37e19d63e0314c338195211b0816422b"
          }
        },
        "e3df36f73f944680a86da2ef21f7bc6b": {
          "model_module": "@jupyter-widgets/controls",
          "model_name": "HTMLModel",
          "state": {
            "_view_name": "HTMLView",
            "style": "IPY_MODEL_f10f77970ceb4e5da65a388eeac158af",
            "_dom_classes": [],
            "description": "",
            "_model_name": "HTMLModel",
            "placeholder": "​",
            "_view_module": "@jupyter-widgets/controls",
            "_model_module_version": "1.5.0",
            "value": " 29696/? [00:00&lt;00:00, 34637.22it/s]",
            "_view_count": null,
            "_view_module_version": "1.5.0",
            "description_tooltip": null,
            "_model_module": "@jupyter-widgets/controls",
            "layout": "IPY_MODEL_615bb29a968146ae95775870a34a7bc4"
          }
        },
        "7af20c5e31084958b7a97f70268dee47": {
          "model_module": "@jupyter-widgets/controls",
          "model_name": "ProgressStyleModel",
          "state": {
            "_view_name": "StyleView",
            "_model_name": "ProgressStyleModel",
            "description_width": "initial",
            "_view_module": "@jupyter-widgets/base",
            "_model_module_version": "1.5.0",
            "_view_count": null,
            "_view_module_version": "1.2.0",
            "bar_color": null,
            "_model_module": "@jupyter-widgets/controls"
          }
        },
        "37e19d63e0314c338195211b0816422b": {
          "model_module": "@jupyter-widgets/base",
          "model_name": "LayoutModel",
          "state": {
            "_view_name": "LayoutView",
            "grid_template_rows": null,
            "right": null,
            "justify_content": null,
            "_view_module": "@jupyter-widgets/base",
            "overflow": null,
            "_model_module_version": "1.2.0",
            "_view_count": null,
            "flex_flow": null,
            "width": null,
            "min_width": null,
            "border": null,
            "align_items": null,
            "bottom": null,
            "_model_module": "@jupyter-widgets/base",
            "top": null,
            "grid_column": null,
            "overflow_y": null,
            "overflow_x": null,
            "grid_auto_flow": null,
            "grid_area": null,
            "grid_template_columns": null,
            "flex": null,
            "_model_name": "LayoutModel",
            "justify_items": null,
            "grid_row": null,
            "max_height": null,
            "align_content": null,
            "visibility": null,
            "align_self": null,
            "height": null,
            "min_height": null,
            "padding": null,
            "grid_auto_rows": null,
            "grid_gap": null,
            "max_width": null,
            "order": null,
            "_view_module_version": "1.2.0",
            "grid_template_areas": null,
            "object_position": null,
            "object_fit": null,
            "grid_auto_columns": null,
            "margin": null,
            "display": null,
            "left": null
          }
        },
        "f10f77970ceb4e5da65a388eeac158af": {
          "model_module": "@jupyter-widgets/controls",
          "model_name": "DescriptionStyleModel",
          "state": {
            "_view_name": "StyleView",
            "_model_name": "DescriptionStyleModel",
            "description_width": "",
            "_view_module": "@jupyter-widgets/base",
            "_model_module_version": "1.5.0",
            "_view_count": null,
            "_view_module_version": "1.2.0",
            "_model_module": "@jupyter-widgets/controls"
          }
        },
        "615bb29a968146ae95775870a34a7bc4": {
          "model_module": "@jupyter-widgets/base",
          "model_name": "LayoutModel",
          "state": {
            "_view_name": "LayoutView",
            "grid_template_rows": null,
            "right": null,
            "justify_content": null,
            "_view_module": "@jupyter-widgets/base",
            "overflow": null,
            "_model_module_version": "1.2.0",
            "_view_count": null,
            "flex_flow": null,
            "width": null,
            "min_width": null,
            "border": null,
            "align_items": null,
            "bottom": null,
            "_model_module": "@jupyter-widgets/base",
            "top": null,
            "grid_column": null,
            "overflow_y": null,
            "overflow_x": null,
            "grid_auto_flow": null,
            "grid_area": null,
            "grid_template_columns": null,
            "flex": null,
            "_model_name": "LayoutModel",
            "justify_items": null,
            "grid_row": null,
            "max_height": null,
            "align_content": null,
            "visibility": null,
            "align_self": null,
            "height": null,
            "min_height": null,
            "padding": null,
            "grid_auto_rows": null,
            "grid_gap": null,
            "max_width": null,
            "order": null,
            "_view_module_version": "1.2.0",
            "grid_template_areas": null,
            "object_position": null,
            "object_fit": null,
            "grid_auto_columns": null,
            "margin": null,
            "display": null,
            "left": null
          }
        },
        "4cda3942973442bfa5468b42f98a2132": {
          "model_module": "@jupyter-widgets/controls",
          "model_name": "HBoxModel",
          "state": {
            "_view_name": "HBoxView",
            "_dom_classes": [],
            "_model_name": "HBoxModel",
            "_view_module": "@jupyter-widgets/controls",
            "_model_module_version": "1.5.0",
            "_view_count": null,
            "_view_module_version": "1.5.0",
            "box_style": "",
            "layout": "IPY_MODEL_ffbfdb23f079460d858e410e8413b15c",
            "_model_module": "@jupyter-widgets/controls",
            "children": [
              "IPY_MODEL_94d427f7ddf54a94a40df0f34def11e6",
              "IPY_MODEL_09a2997a15674a5aa4425b721c24aad5"
            ]
          }
        },
        "ffbfdb23f079460d858e410e8413b15c": {
          "model_module": "@jupyter-widgets/base",
          "model_name": "LayoutModel",
          "state": {
            "_view_name": "LayoutView",
            "grid_template_rows": null,
            "right": null,
            "justify_content": null,
            "_view_module": "@jupyter-widgets/base",
            "overflow": null,
            "_model_module_version": "1.2.0",
            "_view_count": null,
            "flex_flow": null,
            "width": null,
            "min_width": null,
            "border": null,
            "align_items": null,
            "bottom": null,
            "_model_module": "@jupyter-widgets/base",
            "top": null,
            "grid_column": null,
            "overflow_y": null,
            "overflow_x": null,
            "grid_auto_flow": null,
            "grid_area": null,
            "grid_template_columns": null,
            "flex": null,
            "_model_name": "LayoutModel",
            "justify_items": null,
            "grid_row": null,
            "max_height": null,
            "align_content": null,
            "visibility": null,
            "align_self": null,
            "height": null,
            "min_height": null,
            "padding": null,
            "grid_auto_rows": null,
            "grid_gap": null,
            "max_width": null,
            "order": null,
            "_view_module_version": "1.2.0",
            "grid_template_areas": null,
            "object_position": null,
            "object_fit": null,
            "grid_auto_columns": null,
            "margin": null,
            "display": null,
            "left": null
          }
        },
        "94d427f7ddf54a94a40df0f34def11e6": {
          "model_module": "@jupyter-widgets/controls",
          "model_name": "FloatProgressModel",
          "state": {
            "_view_name": "ProgressView",
            "style": "IPY_MODEL_4675908e07ff42a9a3f483441109bc6b",
            "_dom_classes": [],
            "description": "",
            "_model_name": "FloatProgressModel",
            "bar_style": "success",
            "max": 1648877,
            "_view_module": "@jupyter-widgets/controls",
            "_model_module_version": "1.5.0",
            "value": 1648877,
            "_view_count": null,
            "_view_module_version": "1.5.0",
            "orientation": "horizontal",
            "min": 0,
            "description_tooltip": null,
            "_model_module": "@jupyter-widgets/controls",
            "layout": "IPY_MODEL_b3aa426a8ea14e22bdebda50e3d93ce4"
          }
        },
        "09a2997a15674a5aa4425b721c24aad5": {
          "model_module": "@jupyter-widgets/controls",
          "model_name": "HTMLModel",
          "state": {
            "_view_name": "HTMLView",
            "style": "IPY_MODEL_e3bb1fd059aa482d9933fc4a67fd2d62",
            "_dom_classes": [],
            "description": "",
            "_model_name": "HTMLModel",
            "placeholder": "​",
            "_view_module": "@jupyter-widgets/controls",
            "_model_module_version": "1.5.0",
            "value": " 1649664/? [00:02&lt;00:00, 718026.98it/s]",
            "_view_count": null,
            "_view_module_version": "1.5.0",
            "description_tooltip": null,
            "_model_module": "@jupyter-widgets/controls",
            "layout": "IPY_MODEL_c82dce5d6a57442a8e1639e7e3f505c0"
          }
        },
        "4675908e07ff42a9a3f483441109bc6b": {
          "model_module": "@jupyter-widgets/controls",
          "model_name": "ProgressStyleModel",
          "state": {
            "_view_name": "StyleView",
            "_model_name": "ProgressStyleModel",
            "description_width": "initial",
            "_view_module": "@jupyter-widgets/base",
            "_model_module_version": "1.5.0",
            "_view_count": null,
            "_view_module_version": "1.2.0",
            "bar_color": null,
            "_model_module": "@jupyter-widgets/controls"
          }
        },
        "b3aa426a8ea14e22bdebda50e3d93ce4": {
          "model_module": "@jupyter-widgets/base",
          "model_name": "LayoutModel",
          "state": {
            "_view_name": "LayoutView",
            "grid_template_rows": null,
            "right": null,
            "justify_content": null,
            "_view_module": "@jupyter-widgets/base",
            "overflow": null,
            "_model_module_version": "1.2.0",
            "_view_count": null,
            "flex_flow": null,
            "width": null,
            "min_width": null,
            "border": null,
            "align_items": null,
            "bottom": null,
            "_model_module": "@jupyter-widgets/base",
            "top": null,
            "grid_column": null,
            "overflow_y": null,
            "overflow_x": null,
            "grid_auto_flow": null,
            "grid_area": null,
            "grid_template_columns": null,
            "flex": null,
            "_model_name": "LayoutModel",
            "justify_items": null,
            "grid_row": null,
            "max_height": null,
            "align_content": null,
            "visibility": null,
            "align_self": null,
            "height": null,
            "min_height": null,
            "padding": null,
            "grid_auto_rows": null,
            "grid_gap": null,
            "max_width": null,
            "order": null,
            "_view_module_version": "1.2.0",
            "grid_template_areas": null,
            "object_position": null,
            "object_fit": null,
            "grid_auto_columns": null,
            "margin": null,
            "display": null,
            "left": null
          }
        },
        "e3bb1fd059aa482d9933fc4a67fd2d62": {
          "model_module": "@jupyter-widgets/controls",
          "model_name": "DescriptionStyleModel",
          "state": {
            "_view_name": "StyleView",
            "_model_name": "DescriptionStyleModel",
            "description_width": "",
            "_view_module": "@jupyter-widgets/base",
            "_model_module_version": "1.5.0",
            "_view_count": null,
            "_view_module_version": "1.2.0",
            "_model_module": "@jupyter-widgets/controls"
          }
        },
        "c82dce5d6a57442a8e1639e7e3f505c0": {
          "model_module": "@jupyter-widgets/base",
          "model_name": "LayoutModel",
          "state": {
            "_view_name": "LayoutView",
            "grid_template_rows": null,
            "right": null,
            "justify_content": null,
            "_view_module": "@jupyter-widgets/base",
            "overflow": null,
            "_model_module_version": "1.2.0",
            "_view_count": null,
            "flex_flow": null,
            "width": null,
            "min_width": null,
            "border": null,
            "align_items": null,
            "bottom": null,
            "_model_module": "@jupyter-widgets/base",
            "top": null,
            "grid_column": null,
            "overflow_y": null,
            "overflow_x": null,
            "grid_auto_flow": null,
            "grid_area": null,
            "grid_template_columns": null,
            "flex": null,
            "_model_name": "LayoutModel",
            "justify_items": null,
            "grid_row": null,
            "max_height": null,
            "align_content": null,
            "visibility": null,
            "align_self": null,
            "height": null,
            "min_height": null,
            "padding": null,
            "grid_auto_rows": null,
            "grid_gap": null,
            "max_width": null,
            "order": null,
            "_view_module_version": "1.2.0",
            "grid_template_areas": null,
            "object_position": null,
            "object_fit": null,
            "grid_auto_columns": null,
            "margin": null,
            "display": null,
            "left": null
          }
        },
        "f658ff42a616472cbba7b7f45e66dd93": {
          "model_module": "@jupyter-widgets/controls",
          "model_name": "HBoxModel",
          "state": {
            "_view_name": "HBoxView",
            "_dom_classes": [],
            "_model_name": "HBoxModel",
            "_view_module": "@jupyter-widgets/controls",
            "_model_module_version": "1.5.0",
            "_view_count": null,
            "_view_module_version": "1.5.0",
            "box_style": "",
            "layout": "IPY_MODEL_8ee1c860ece84d3a9c7375bcea3352df",
            "_model_module": "@jupyter-widgets/controls",
            "children": [
              "IPY_MODEL_c17197248f46428d9fc5b6973541850d",
              "IPY_MODEL_74d3a3bd26364e399a0d6906ef168ec4"
            ]
          }
        },
        "8ee1c860ece84d3a9c7375bcea3352df": {
          "model_module": "@jupyter-widgets/base",
          "model_name": "LayoutModel",
          "state": {
            "_view_name": "LayoutView",
            "grid_template_rows": null,
            "right": null,
            "justify_content": null,
            "_view_module": "@jupyter-widgets/base",
            "overflow": null,
            "_model_module_version": "1.2.0",
            "_view_count": null,
            "flex_flow": null,
            "width": null,
            "min_width": null,
            "border": null,
            "align_items": null,
            "bottom": null,
            "_model_module": "@jupyter-widgets/base",
            "top": null,
            "grid_column": null,
            "overflow_y": null,
            "overflow_x": null,
            "grid_auto_flow": null,
            "grid_area": null,
            "grid_template_columns": null,
            "flex": null,
            "_model_name": "LayoutModel",
            "justify_items": null,
            "grid_row": null,
            "max_height": null,
            "align_content": null,
            "visibility": null,
            "align_self": null,
            "height": null,
            "min_height": null,
            "padding": null,
            "grid_auto_rows": null,
            "grid_gap": null,
            "max_width": null,
            "order": null,
            "_view_module_version": "1.2.0",
            "grid_template_areas": null,
            "object_position": null,
            "object_fit": null,
            "grid_auto_columns": null,
            "margin": null,
            "display": null,
            "left": null
          }
        },
        "c17197248f46428d9fc5b6973541850d": {
          "model_module": "@jupyter-widgets/controls",
          "model_name": "FloatProgressModel",
          "state": {
            "_view_name": "ProgressView",
            "style": "IPY_MODEL_cf96ffcb823c4ee2ae81be62379501cf",
            "_dom_classes": [],
            "description": "",
            "_model_name": "FloatProgressModel",
            "bar_style": "success",
            "max": 4542,
            "_view_module": "@jupyter-widgets/controls",
            "_model_module_version": "1.5.0",
            "value": 4542,
            "_view_count": null,
            "_view_module_version": "1.5.0",
            "orientation": "horizontal",
            "min": 0,
            "description_tooltip": null,
            "_model_module": "@jupyter-widgets/controls",
            "layout": "IPY_MODEL_0400271d1a114738b527b650f96f0298"
          }
        },
        "74d3a3bd26364e399a0d6906ef168ec4": {
          "model_module": "@jupyter-widgets/controls",
          "model_name": "HTMLModel",
          "state": {
            "_view_name": "HTMLView",
            "style": "IPY_MODEL_e16e9c228f914bb8a4a7d46f08acee53",
            "_dom_classes": [],
            "description": "",
            "_model_name": "HTMLModel",
            "placeholder": "​",
            "_view_module": "@jupyter-widgets/controls",
            "_model_module_version": "1.5.0",
            "value": " 5120/? [00:00&lt;00:00, 24303.17it/s]",
            "_view_count": null,
            "_view_module_version": "1.5.0",
            "description_tooltip": null,
            "_model_module": "@jupyter-widgets/controls",
            "layout": "IPY_MODEL_d9d83c279b224c919ad0569ded199c81"
          }
        },
        "cf96ffcb823c4ee2ae81be62379501cf": {
          "model_module": "@jupyter-widgets/controls",
          "model_name": "ProgressStyleModel",
          "state": {
            "_view_name": "StyleView",
            "_model_name": "ProgressStyleModel",
            "description_width": "initial",
            "_view_module": "@jupyter-widgets/base",
            "_model_module_version": "1.5.0",
            "_view_count": null,
            "_view_module_version": "1.2.0",
            "bar_color": null,
            "_model_module": "@jupyter-widgets/controls"
          }
        },
        "0400271d1a114738b527b650f96f0298": {
          "model_module": "@jupyter-widgets/base",
          "model_name": "LayoutModel",
          "state": {
            "_view_name": "LayoutView",
            "grid_template_rows": null,
            "right": null,
            "justify_content": null,
            "_view_module": "@jupyter-widgets/base",
            "overflow": null,
            "_model_module_version": "1.2.0",
            "_view_count": null,
            "flex_flow": null,
            "width": null,
            "min_width": null,
            "border": null,
            "align_items": null,
            "bottom": null,
            "_model_module": "@jupyter-widgets/base",
            "top": null,
            "grid_column": null,
            "overflow_y": null,
            "overflow_x": null,
            "grid_auto_flow": null,
            "grid_area": null,
            "grid_template_columns": null,
            "flex": null,
            "_model_name": "LayoutModel",
            "justify_items": null,
            "grid_row": null,
            "max_height": null,
            "align_content": null,
            "visibility": null,
            "align_self": null,
            "height": null,
            "min_height": null,
            "padding": null,
            "grid_auto_rows": null,
            "grid_gap": null,
            "max_width": null,
            "order": null,
            "_view_module_version": "1.2.0",
            "grid_template_areas": null,
            "object_position": null,
            "object_fit": null,
            "grid_auto_columns": null,
            "margin": null,
            "display": null,
            "left": null
          }
        },
        "e16e9c228f914bb8a4a7d46f08acee53": {
          "model_module": "@jupyter-widgets/controls",
          "model_name": "DescriptionStyleModel",
          "state": {
            "_view_name": "StyleView",
            "_model_name": "DescriptionStyleModel",
            "description_width": "",
            "_view_module": "@jupyter-widgets/base",
            "_model_module_version": "1.5.0",
            "_view_count": null,
            "_view_module_version": "1.2.0",
            "_model_module": "@jupyter-widgets/controls"
          }
        },
        "d9d83c279b224c919ad0569ded199c81": {
          "model_module": "@jupyter-widgets/base",
          "model_name": "LayoutModel",
          "state": {
            "_view_name": "LayoutView",
            "grid_template_rows": null,
            "right": null,
            "justify_content": null,
            "_view_module": "@jupyter-widgets/base",
            "overflow": null,
            "_model_module_version": "1.2.0",
            "_view_count": null,
            "flex_flow": null,
            "width": null,
            "min_width": null,
            "border": null,
            "align_items": null,
            "bottom": null,
            "_model_module": "@jupyter-widgets/base",
            "top": null,
            "grid_column": null,
            "overflow_y": null,
            "overflow_x": null,
            "grid_auto_flow": null,
            "grid_area": null,
            "grid_template_columns": null,
            "flex": null,
            "_model_name": "LayoutModel",
            "justify_items": null,
            "grid_row": null,
            "max_height": null,
            "align_content": null,
            "visibility": null,
            "align_self": null,
            "height": null,
            "min_height": null,
            "padding": null,
            "grid_auto_rows": null,
            "grid_gap": null,
            "max_width": null,
            "order": null,
            "_view_module_version": "1.2.0",
            "grid_template_areas": null,
            "object_position": null,
            "object_fit": null,
            "grid_auto_columns": null,
            "margin": null,
            "display": null,
            "left": null
          }
        }
      }
    }
  },
  "cells": [
    {
      "cell_type": "markdown",
      "metadata": {
        "id": "view-in-github",
        "colab_type": "text"
      },
      "source": [
        "<a href=\"https://colab.research.google.com/github/gasse/cors_2021_tutorial/blob/main/solutions/mnist_mlp.ipynb\" target=\"_parent\"><img src=\"https://colab.research.google.com/assets/colab-badge.svg\" alt=\"Open In Colab\"/></a>"
      ]
    },
    {
      "cell_type": "markdown",
      "metadata": {
        "id": "pZlJOTR-BiZR"
      },
      "source": [
        "# MNIST\n",
        "\n",
        "We will now use high-level functions from `torch.optim`, `torch.nn` etc.\n",
        "\n",
        "## Let's load the data."
      ]
    },
    {
      "cell_type": "code",
      "metadata": {
        "id": "c_BYNQfVAYYA",
        "colab": {
          "base_uri": "https://localhost:8080/",
          "height": 845,
          "referenced_widgets": [
            "75d4428838b947c395b116207ac3f71f",
            "71ec435561b548bc89bef223ef7215d8",
            "3be4d651e4ea4892b4d8085d3723a7c1",
            "cf19243f97714153bb5473935083d0f1",
            "c20af29132054b8489cff03ffb2bf013",
            "b5c2397050714ab7836733fe739ddb3c",
            "c45496bf138b4e9d8b801fc0dbb92ba0",
            "29ed0c56a9984ca8ae8fa5870891803b",
            "f7c7759b22b544dc9f7285f6279a141a",
            "14e9117e7dd84e2282a703255a3c53c7",
            "e60ab3c24893418ea1665456d9e57e48",
            "e3df36f73f944680a86da2ef21f7bc6b",
            "7af20c5e31084958b7a97f70268dee47",
            "37e19d63e0314c338195211b0816422b",
            "f10f77970ceb4e5da65a388eeac158af",
            "615bb29a968146ae95775870a34a7bc4",
            "4cda3942973442bfa5468b42f98a2132",
            "ffbfdb23f079460d858e410e8413b15c",
            "94d427f7ddf54a94a40df0f34def11e6",
            "09a2997a15674a5aa4425b721c24aad5",
            "4675908e07ff42a9a3f483441109bc6b",
            "b3aa426a8ea14e22bdebda50e3d93ce4",
            "e3bb1fd059aa482d9933fc4a67fd2d62",
            "c82dce5d6a57442a8e1639e7e3f505c0",
            "f658ff42a616472cbba7b7f45e66dd93",
            "8ee1c860ece84d3a9c7375bcea3352df",
            "c17197248f46428d9fc5b6973541850d",
            "74d3a3bd26364e399a0d6906ef168ec4",
            "cf96ffcb823c4ee2ae81be62379501cf",
            "0400271d1a114738b527b650f96f0298",
            "e16e9c228f914bb8a4a7d46f08acee53",
            "d9d83c279b224c919ad0569ded199c81"
          ]
        },
        "outputId": "aeb2e775-6486-4174-aba9-ec7faa35778f"
      },
      "source": [
        "from torchvision import datasets, transforms\n",
        "\n",
        "mnist_folder = '.'\n",
        "\n",
        "train_data = datasets.MNIST(root=mnist_folder, download=True, transform=transforms.ToTensor(), train=True)\n",
        "test_data = datasets.MNIST(root=mnist_folder, download=True, transform=transforms.ToTensor(), train=False)"
      ],
      "execution_count": 1,
      "outputs": [
        {
          "output_type": "stream",
          "text": [
            "Downloading http://yann.lecun.com/exdb/mnist/train-images-idx3-ubyte.gz\n",
            "Failed to download (trying next):\n",
            "HTTP Error 503: Service Unavailable\n",
            "\n",
            "Downloading https://ossci-datasets.s3.amazonaws.com/mnist/train-images-idx3-ubyte.gz\n",
            "Downloading https://ossci-datasets.s3.amazonaws.com/mnist/train-images-idx3-ubyte.gz to ./MNIST/raw/train-images-idx3-ubyte.gz\n"
          ],
          "name": "stdout"
        },
        {
          "output_type": "display_data",
          "data": {
            "application/vnd.jupyter.widget-view+json": {
              "model_id": "75d4428838b947c395b116207ac3f71f",
              "version_minor": 0,
              "version_major": 2
            },
            "text/plain": [
              "HBox(children=(FloatProgress(value=0.0, max=9912422.0), HTML(value='')))"
            ]
          },
          "metadata": {
            "tags": []
          }
        },
        {
          "output_type": "stream",
          "text": [
            "\n",
            "Extracting ./MNIST/raw/train-images-idx3-ubyte.gz to ./MNIST/raw\n",
            "\n",
            "Downloading http://yann.lecun.com/exdb/mnist/train-labels-idx1-ubyte.gz\n",
            "Failed to download (trying next):\n",
            "HTTP Error 503: Service Unavailable\n",
            "\n",
            "Downloading https://ossci-datasets.s3.amazonaws.com/mnist/train-labels-idx1-ubyte.gz\n",
            "Downloading https://ossci-datasets.s3.amazonaws.com/mnist/train-labels-idx1-ubyte.gz to ./MNIST/raw/train-labels-idx1-ubyte.gz\n"
          ],
          "name": "stdout"
        },
        {
          "output_type": "display_data",
          "data": {
            "application/vnd.jupyter.widget-view+json": {
              "model_id": "f7c7759b22b544dc9f7285f6279a141a",
              "version_minor": 0,
              "version_major": 2
            },
            "text/plain": [
              "HBox(children=(FloatProgress(value=0.0, max=28881.0), HTML(value='')))"
            ]
          },
          "metadata": {
            "tags": []
          }
        },
        {
          "output_type": "stream",
          "text": [
            "\n",
            "Extracting ./MNIST/raw/train-labels-idx1-ubyte.gz to ./MNIST/raw\n",
            "\n",
            "Downloading http://yann.lecun.com/exdb/mnist/t10k-images-idx3-ubyte.gz\n",
            "Failed to download (trying next):\n",
            "HTTP Error 503: Service Unavailable\n",
            "\n",
            "Downloading https://ossci-datasets.s3.amazonaws.com/mnist/t10k-images-idx3-ubyte.gz\n",
            "Downloading https://ossci-datasets.s3.amazonaws.com/mnist/t10k-images-idx3-ubyte.gz to ./MNIST/raw/t10k-images-idx3-ubyte.gz\n"
          ],
          "name": "stdout"
        },
        {
          "output_type": "display_data",
          "data": {
            "application/vnd.jupyter.widget-view+json": {
              "model_id": "4cda3942973442bfa5468b42f98a2132",
              "version_minor": 0,
              "version_major": 2
            },
            "text/plain": [
              "HBox(children=(FloatProgress(value=0.0, max=1648877.0), HTML(value='')))"
            ]
          },
          "metadata": {
            "tags": []
          }
        },
        {
          "output_type": "stream",
          "text": [
            "\n",
            "Extracting ./MNIST/raw/t10k-images-idx3-ubyte.gz to ./MNIST/raw\n",
            "\n",
            "Downloading http://yann.lecun.com/exdb/mnist/t10k-labels-idx1-ubyte.gz\n",
            "Failed to download (trying next):\n",
            "HTTP Error 503: Service Unavailable\n",
            "\n",
            "Downloading https://ossci-datasets.s3.amazonaws.com/mnist/t10k-labels-idx1-ubyte.gz\n",
            "Downloading https://ossci-datasets.s3.amazonaws.com/mnist/t10k-labels-idx1-ubyte.gz to ./MNIST/raw/t10k-labels-idx1-ubyte.gz\n"
          ],
          "name": "stdout"
        },
        {
          "output_type": "display_data",
          "data": {
            "application/vnd.jupyter.widget-view+json": {
              "model_id": "f658ff42a616472cbba7b7f45e66dd93",
              "version_minor": 0,
              "version_major": 2
            },
            "text/plain": [
              "HBox(children=(FloatProgress(value=0.0, max=4542.0), HTML(value='')))"
            ]
          },
          "metadata": {
            "tags": []
          }
        },
        {
          "output_type": "stream",
          "text": [
            "\n",
            "Extracting ./MNIST/raw/t10k-labels-idx1-ubyte.gz to ./MNIST/raw\n",
            "\n",
            "Processing...\n",
            "Done!\n"
          ],
          "name": "stdout"
        },
        {
          "output_type": "stream",
          "text": [
            "/usr/local/lib/python3.7/dist-packages/torchvision/datasets/mnist.py:502: UserWarning: The given NumPy array is not writeable, and PyTorch does not support non-writeable tensors. This means you can write to the underlying (supposedly non-writeable) NumPy array using the tensor. You may want to copy the array to protect its data or make it writeable before converting it to a tensor. This type of warning will be suppressed for the rest of this program. (Triggered internally at  /pytorch/torch/csrc/utils/tensor_numpy.cpp:143.)\n",
            "  return torch.from_numpy(parsed.astype(m[2], copy=False)).view(*s)\n"
          ],
          "name": "stderr"
        }
      ]
    },
    {
      "cell_type": "code",
      "metadata": {
        "colab": {
          "base_uri": "https://localhost:8080/"
        },
        "id": "P_8T2W8xBKt_",
        "outputId": "782bed72-ecf1-4d92-d866-51a2d831336c"
      },
      "source": [
        "print(f\"{len(train_data)} training samples\")\n",
        "print(f\"{len(test_data)} test samples\")"
      ],
      "execution_count": 2,
      "outputs": [
        {
          "output_type": "stream",
          "text": [
            "60000 training samples\n",
            "10000 test samples\n"
          ],
          "name": "stdout"
        }
      ]
    },
    {
      "cell_type": "markdown",
      "metadata": {
        "id": "5GEtmNejBbmI"
      },
      "source": [
        "# How do the digits look like ?"
      ]
    },
    {
      "cell_type": "code",
      "metadata": {
        "colab": {
          "base_uri": "https://localhost:8080/",
          "height": 259
        },
        "id": "XCeLSsyGAqIb",
        "outputId": "add4bb83-1032-42d5-f254-787ffc87192b"
      },
      "source": [
        "import numpy as np\n",
        "import matplotlib.pyplot as plt\n",
        "\n",
        "fig, axes = plt.subplots(nrows=2, ncols=5, figsize=(8, 4), squeeze=False)\n",
        "\n",
        "for i in range(10):\n",
        "    r = i // 5\n",
        "    c = i % 5\n",
        "    idx = np.random.choice(len(train_data), 1)[0]\n",
        "    x = train_data[idx][0].numpy()\n",
        "    y = train_data[idx][1]\n",
        "    axes[r, c].imshow(x[0, :, :])\n",
        "    axes[r, c].set_title('y={}'.format(y))\n",
        "\n",
        "plt.show()"
      ],
      "execution_count": 3,
      "outputs": [
        {
          "output_type": "display_data",
          "data": {
            "image/png": "[encoded data removed]",
            "text/plain": [
              "<Figure size 576x288 with 10 Axes>"
            ]
          },
          "metadata": {
            "tags": [],
            "needs_background": "light"
          }
        }
      ]
    },
    {
      "cell_type": "markdown",
      "metadata": {
        "id": "9CFQjkaHHBT0"
      },
      "source": [
        "# Let's train a neural net !"
      ]
    },
    {
      "cell_type": "code",
      "metadata": {
        "id": "4hrznQBCBXTw",
        "colab": {
          "base_uri": "https://localhost:8080/"
        },
        "outputId": "18bb644e-e1df-449d-cd2e-fa3332070d63"
      },
      "source": [
        "import torch\n",
        "import torch.nn as nn\n",
        "import torch.nn.functional as F\n",
        "import torch.optim as optim\n",
        "from torch.utils.data import DataLoader\n",
        "\n",
        "seed = 42\n",
        "\n",
        "# Hyperparameters\n",
        "lr = 0.01\n",
        "epochs = 40\n",
        "epoch_size = 200\n",
        "train_batch_size = 200\n",
        "test_batch_size = 256\n",
        "\n",
        "# detect if GPU is available\n",
        "if torch.cuda.is_available():\n",
        "  device = torch.device(\"cuda\")\n",
        "else:\n",
        "  device = torch.device(\"cpu\")\n",
        "\n",
        "# set up the data loaders\n",
        "train_sampler = torch.utils.data.RandomSampler(train_data, replacement=True, num_samples=epoch_size*train_batch_size)\n",
        "train_loader = DataLoader(train_data, sampler=train_sampler, batch_size=train_batch_size)\n",
        "test_loader = DataLoader(test_data, batch_size=test_batch_size, shuffle=False)\n",
        "\n",
        "\n",
        "# Model definition\n",
        "class NeuralNet(nn.Module):\n",
        "    def __init__(self):\n",
        "        super().__init__()\n",
        "        self.fc1 = nn.Linear(28*28, 256)\n",
        "        self.fc2 = nn.Linear(256, 128)\n",
        "        self.fc3 = nn.Linear(128, 64)\n",
        "        self.fc4 = nn.Linear(64, 32)\n",
        "        self.fc5 = nn.Linear(32, 10)\n",
        "\n",
        "    def forward(self, X):\n",
        "        X = X.view(-1, 28*28)  # flatten images\n",
        "        X = self.fc1(X)\n",
        "        X = torch.relu(X)\n",
        "        X = self.fc2(X)\n",
        "        X = torch.relu(X)\n",
        "        X = self.fc3(X)\n",
        "        X = torch.relu(X)\n",
        "        X = self.fc4(X)\n",
        "        X = torch.relu(X)\n",
        "        X = self.fc5(X)\n",
        "        return F.log_softmax(X, dim=-1)\n",
        "\n",
        "\n",
        "torch.manual_seed(seed)\n",
        "\n",
        "model = NeuralNet().to(device)\n",
        "optimizer = optim.Adam(model.parameters(), lr=lr)\n",
        "lr_scheduler = torch.optim.lr_scheduler.ReduceLROnPlateau(optimizer, patience=3, factor=0.4)\n",
        "\n",
        "def train():\n",
        "\n",
        "    mean_loss = 0.\n",
        "    n_processed = 0\n",
        "\n",
        "    model.train()\n",
        "    for X, Y in train_loader:\n",
        "\n",
        "        X = X.to(device)\n",
        "        Y = Y.to(device)\n",
        "\n",
        "        # Forward pass\n",
        "        Y_logprob = model(X)\n",
        "\n",
        "        # Compute expected loss\n",
        "        loss = F.nll_loss(Y_logprob, Y, reduction='mean')\n",
        "\n",
        "        # Backward pass\n",
        "        loss.backward()\n",
        "\n",
        "        # Parameter update (gradient descent)\n",
        "        optimizer.step()\n",
        "        optimizer.zero_grad()\n",
        "\n",
        "        mean_loss += loss.item() * X.shape[0]\n",
        "        n_processed += X.shape[0]\n",
        "\n",
        "    mean_loss /= n_processed\n",
        "    return mean_loss\n",
        "\n",
        "def test():\n",
        "    test_loss = 0\n",
        "    test_error = 0\n",
        "    n_processed = 0\n",
        "    \n",
        "    model.eval()\n",
        "    for X, Y in test_loader:\n",
        "\n",
        "        X = X.to(device)\n",
        "        Y = Y.to(device)\n",
        "\n",
        "        with torch.no_grad():\n",
        "            # Forward pass\n",
        "            Y_logprob = model(X)\n",
        "\n",
        "            # Compute the expected negative log-likelihood\n",
        "            test_loss += F.nll_loss(Y_logprob, Y, reduction='sum').item()\n",
        "\n",
        "            # Get the mode of p(y|x) (most probable digit)\n",
        "            Y_pred = Y_logprob.argmax(dim=1)\n",
        "\n",
        "            # Compute the expected 0/1 error\n",
        "            test_error += (Y_pred != Y).sum().item()\n",
        "\n",
        "        n_processed += X.shape[0]\n",
        "\n",
        "    test_loss /= n_processed\n",
        "    test_error /= n_processed\n",
        "\n",
        "    return test_loss, test_error\n",
        "\n",
        "\n",
        "train_losses = []\n",
        "test_losses = []\n",
        "for epoch in range(1, epochs + 1):\n",
        "    \n",
        "    print(f\"Epoch {epoch}...\")\n",
        "    \n",
        "    train_loss = train()\n",
        "    print(f\"Train negative log-likelihood: {train_loss:.6f}\")\n",
        "    \n",
        "    test_loss, test_error = test()\n",
        "    print(f\"Test  negative log-likelihood: {test_loss:.6f} 0/1 error: {test_error:.6f}\")\n",
        "\n",
        "    lr_scheduler.step(test_loss)\n",
        "    train_losses.append(train_loss)\n",
        "    test_losses.append(test_loss)"
      ],
      "execution_count": 8,
      "outputs": [
        {
          "output_type": "stream",
          "text": [
            "Epoch 1...\n",
            "Train negative log-likelihood: 0.382270\n",
            "Test  negative log-likelihood: 0.177802 0/1 error: 0.050600\n",
            "Epoch 2...\n",
            "Train negative log-likelihood: 0.144697\n",
            "Test  negative log-likelihood: 0.125031 0/1 error: 0.035700\n",
            "Epoch 3...\n",
            "Train negative log-likelihood: 0.111342\n",
            "Test  negative log-likelihood: 0.125163 0/1 error: 0.035200\n",
            "Epoch 4...\n",
            "Train negative log-likelihood: 0.093142\n",
            "Test  negative log-likelihood: 0.130388 0/1 error: 0.033800\n",
            "Epoch 5...\n",
            "Train negative log-likelihood: 0.083439\n",
            "Test  negative log-likelihood: 0.109554 0/1 error: 0.030300\n",
            "Epoch 6...\n",
            "Train negative log-likelihood: 0.075692\n",
            "Test  negative log-likelihood: 0.120281 0/1 error: 0.029200\n",
            "Epoch 7...\n",
            "Train negative log-likelihood: 0.067948\n",
            "Test  negative log-likelihood: 0.132666 0/1 error: 0.030500\n",
            "Epoch 8...\n",
            "Train negative log-likelihood: 0.066560\n",
            "Test  negative log-likelihood: 0.118781 0/1 error: 0.029900\n",
            "Epoch 9...\n",
            "Train negative log-likelihood: 0.057498\n",
            "Test  negative log-likelihood: 0.121173 0/1 error: 0.026700\n",
            "Epoch 10...\n",
            "Train negative log-likelihood: 0.033519\n",
            "Test  negative log-likelihood: 0.086373 0/1 error: 0.020000\n",
            "Epoch 11...\n",
            "Train negative log-likelihood: 0.026166\n",
            "Test  negative log-likelihood: 0.093900 0/1 error: 0.020800\n",
            "Epoch 12...\n",
            "Train negative log-likelihood: 0.022317\n",
            "Test  negative log-likelihood: 0.097146 0/1 error: 0.020100\n",
            "Epoch 13...\n",
            "Train negative log-likelihood: 0.015628\n",
            "Test  negative log-likelihood: 0.103638 0/1 error: 0.022400\n",
            "Epoch 14...\n",
            "Train negative log-likelihood: 0.015185\n",
            "Test  negative log-likelihood: 0.093475 0/1 error: 0.019900\n",
            "Epoch 15...\n",
            "Train negative log-likelihood: 0.008218\n",
            "Test  negative log-likelihood: 0.095780 0/1 error: 0.019600\n",
            "Epoch 16...\n",
            "Train negative log-likelihood: 0.006139\n",
            "Test  negative log-likelihood: 0.110036 0/1 error: 0.019800\n",
            "Epoch 17...\n",
            "Train negative log-likelihood: 0.006007\n",
            "Test  negative log-likelihood: 0.102485 0/1 error: 0.018900\n",
            "Epoch 18...\n",
            "Train negative log-likelihood: 0.005090\n",
            "Test  negative log-likelihood: 0.106441 0/1 error: 0.018800\n",
            "Epoch 19...\n",
            "Train negative log-likelihood: 0.003874\n",
            "Test  negative log-likelihood: 0.107051 0/1 error: 0.018900\n",
            "Epoch 20...\n",
            "Train negative log-likelihood: 0.002574\n",
            "Test  negative log-likelihood: 0.108492 0/1 error: 0.018600\n",
            "Epoch 21...\n",
            "Train negative log-likelihood: 0.002359\n",
            "Test  negative log-likelihood: 0.110403 0/1 error: 0.018400\n",
            "Epoch 22...\n",
            "Train negative log-likelihood: 0.001304\n",
            "Test  negative log-likelihood: 0.114681 0/1 error: 0.018600\n",
            "Epoch 23...\n",
            "Train negative log-likelihood: 0.002009\n",
            "Test  negative log-likelihood: 0.115665 0/1 error: 0.018900\n",
            "Epoch 24...\n",
            "Train negative log-likelihood: 0.001138\n",
            "Test  negative log-likelihood: 0.117827 0/1 error: 0.018800\n",
            "Epoch 25...\n",
            "Train negative log-likelihood: 0.001326\n",
            "Test  negative log-likelihood: 0.119663 0/1 error: 0.019100\n",
            "Epoch 26...\n",
            "Train negative log-likelihood: 0.001232\n",
            "Test  negative log-likelihood: 0.122145 0/1 error: 0.018800\n",
            "Epoch 27...\n",
            "Train negative log-likelihood: 0.001705\n",
            "Test  negative log-likelihood: 0.123341 0/1 error: 0.018700\n",
            "Epoch 28...\n",
            "Train negative log-likelihood: 0.001186\n",
            "Test  negative log-likelihood: 0.124539 0/1 error: 0.018800\n",
            "Epoch 29...\n",
            "Train negative log-likelihood: 0.001243\n",
            "Test  negative log-likelihood: 0.125268 0/1 error: 0.018800\n",
            "Epoch 30...\n",
            "Train negative log-likelihood: 0.001260\n",
            "Test  negative log-likelihood: 0.126337 0/1 error: 0.019000\n",
            "Epoch 31...\n",
            "Train negative log-likelihood: 0.001446\n",
            "Test  negative log-likelihood: 0.126696 0/1 error: 0.019000\n",
            "Epoch 32...\n",
            "Train negative log-likelihood: 0.001466\n",
            "Test  negative log-likelihood: 0.126997 0/1 error: 0.018800\n",
            "Epoch 33...\n",
            "Train negative log-likelihood: 0.001205\n",
            "Test  negative log-likelihood: 0.127660 0/1 error: 0.018800\n",
            "Epoch 34...\n",
            "Train negative log-likelihood: 0.001895\n",
            "Test  negative log-likelihood: 0.128064 0/1 error: 0.018800\n",
            "Epoch 35...\n",
            "Train negative log-likelihood: 0.001204\n",
            "Test  negative log-likelihood: 0.128355 0/1 error: 0.018800\n",
            "Epoch 36...\n",
            "Train negative log-likelihood: 0.001015\n",
            "Test  negative log-likelihood: 0.128670 0/1 error: 0.018900\n",
            "Epoch 37...\n",
            "Train negative log-likelihood: 0.000955\n",
            "Test  negative log-likelihood: 0.128948 0/1 error: 0.019000\n",
            "Epoch 38...\n",
            "Train negative log-likelihood: 0.000903\n",
            "Test  negative log-likelihood: 0.129303 0/1 error: 0.018800\n",
            "Epoch 39...\n",
            "Train negative log-likelihood: 0.001118\n",
            "Test  negative log-likelihood: 0.129472 0/1 error: 0.018900\n",
            "Epoch 40...\n",
            "Train negative log-likelihood: 0.000529\n",
            "Test  negative log-likelihood: 0.129643 0/1 error: 0.018800\n"
          ],
          "name": "stdout"
        }
      ]
    },
    {
      "cell_type": "code",
      "metadata": {
        "id": "iqgbjOPKqBfR",
        "colab": {
          "base_uri": "https://localhost:8080/",
          "height": 295
        },
        "outputId": "9ba77a07-e39d-4811-dfd4-09317566534c"
      },
      "source": [
        "plt.figure(figsize=(6, 4))\n",
        "ax = plt.gca()\n",
        "ax.plot(range(epochs), train_losses, label=\"train\")\n",
        "ax.plot(range(epochs), test_losses, label=\"test\")\n",
        "ax.set_title(\"Train / test loss\")\n",
        "ax.legend()\n",
        "ax.set_xlabel(\"epochs\")\n",
        "ax.set_ylabel(\"NLL\")\n",
        "plt.show()"
      ],
      "execution_count": 9,
      "outputs": [
        {
          "output_type": "display_data",
          "data": {
            "image/png": "[encoded data removed]",
            "text/plain": [
              "<Figure size 432x288 with 1 Axes>"
            ]
          },
          "metadata": {
            "tags": [],
            "needs_background": "light"
          }
        }
      ]
    },
    {
      "cell_type": "markdown",
      "metadata": {
        "id": "VdyAK14sG-Qj"
      },
      "source": [
        "Let's visualize some predictions."
      ]
    },
    {
      "cell_type": "code",
      "metadata": {
        "id": "m4V9rLhqDvhQ",
        "colab": {
          "base_uri": "https://localhost:8080/",
          "height": 700
        },
        "outputId": "1dd4c21e-380b-4241-cc29-7663ceab62ef"
      },
      "source": [
        "nrows = 5\n",
        "ncols = 5\n",
        "\n",
        "fig, axes = plt.subplots(nrows=nrows, ncols=ncols, figsize=(10, 12), squeeze=False)\n",
        "\n",
        "np.random.seed(0)\n",
        "idxs = np.random.choice(len(train_data), nrows*ncols)\n",
        "\n",
        "for i, idx in enumerate(idxs):\n",
        "    r = i // 5\n",
        "    c = i % 5\n",
        "    x = train_data[idx][0].numpy()\n",
        "    y = train_data[idx][1]\n",
        "    y_pred = model(torch.tensor(x).to(device)).argmax(dim=-1).item()\n",
        "    axes[r, c].imshow(x[0, :, :])\n",
        "    axes[r, c].set_title(f'y={y} pred={y_pred}')\n",
        "\n",
        "plt.show()"
      ],
      "execution_count": 10,
      "outputs": [
        {
          "output_type": "display_data",
          "data": {
            "image/png": "[encoded data removed]",
            "text/plain": [
              "<Figure size 720x864 with 25 Axes>"
            ]
          },
          "metadata": {
            "tags": [],
            "needs_background": "light"
          }
        }
      ]
    },
    {
      "cell_type": "markdown",
      "metadata": {
        "id": "mPbT5k6nI971"
      },
      "source": [
        "Try playing with the learning rate, batch size, and number of epochs. What is the best accuracy that you can get ?\n",
        "\n",
        "Try different neural network architectures, and note the results.\n",
        "*   Multi-layer perceptron (more layers)\n",
        "*   Convolutional neural net ([convolution layers](https://pytorch.org/docs/stable/nn.html#convolution-layers) + [max pooling](https://pytorch.org/docs/stable/nn.html?highlight=layers#pooling-layers))\n",
        "*   Residual connections\n",
        "\n",
        "Objective: get below 1% error: http://yann.lecun.com/exdb/mnist/index.html\n",
        "\n",
        "Hints:\n",
        "  - change the gradient descent optimizer to [Adam](https://pytorch.org/docs/stable/optim.html?highlight=adam#torch.optim.Adam)\n",
        "  - implement an early stopping strategy: $n$ epochs without improvement -> stop\n",
        "  - set up a learning rate decay strategy ([ReduceLROnPlateau](https://pytorch.org/docs/stable/optim.html#torch.optim.lr_scheduler.ReduceLROnPlateau))"
      ]
    },
    {
      "cell_type": "code",
      "metadata": {
        "id": "_0L0vBGRIKJy"
      },
      "source": [
        ""
      ],
      "execution_count": null,
      "outputs": []
    }
  ]
}